{
 "metadata": {
  "language_info": {
   "codemirror_mode": {
    "name": "ipython",
    "version": 3
   },
   "file_extension": ".py",
   "mimetype": "text/x-python",
   "name": "python",
   "nbconvert_exporter": "python",
   "pygments_lexer": "ipython3",
   "version": "3.10.0-alpha7"
  },
  "orig_nbformat": 2,
  "kernelspec": {
   "name": "python3100jvsc74a57bd0793eb695977fec631855426e2f18f47b7acfa989782bbdade29a32a730f679d5",
   "display_name": "Python 3.10.0 64-bit ('maximum-segment-sum')"
  },
  "metadata": {
   "interpreter": {
    "hash": "793eb695977fec631855426e2f18f47b7acfa989782bbdade29a32a730f679d5"
   }
  }
 },
 "nbformat": 4,
 "nbformat_minor": 2,
 "cells": [
  {
   "source": [
    "Welcome to the Maximum Segment Sum playground!\n",
    "\n",
    "Here we'll test the maximum segment sum on our story arc example and dig into some other fun stuff about left- and right-folds."
   ],
   "cell_type": "markdown",
   "metadata": {}
  },
  {
   "cell_type": "code",
   "execution_count": 1,
   "metadata": {},
   "outputs": [],
   "source": [
    "from maximum_segment_sum import (\n",
    "    naive_maximum_segment_sum,\n",
    "    efficient_maximum_segment_sum,\n",
    "    fold_from_left,\n",
    "    fold_from_right,\n",
    ")"
   ]
  },
  {
   "cell_type": "code",
   "execution_count": 2,
   "metadata": {},
   "outputs": [],
   "source": [
    "toy_example_list = [-1, 2, -3, 5, -2, 1, 3, -2, -2, -3, 6]"
   ]
  },
  {
   "cell_type": "code",
   "execution_count": 3,
   "metadata": {},
   "outputs": [
    {
     "output_type": "execute_result",
     "data": {
      "text/plain": [
       "7"
      ]
     },
     "metadata": {},
     "execution_count": 3
    }
   ],
   "source": [
    "naive_maximum_segment_sum(toy_example_list)"
   ]
  },
  {
   "cell_type": "code",
   "execution_count": 4,
   "metadata": {},
   "outputs": [
    {
     "output_type": "execute_result",
     "data": {
      "text/plain": [
       "7"
      ]
     },
     "metadata": {},
     "execution_count": 4
    }
   ],
   "source": [
    "efficient_maximum_segment_sum(toy_example_list)"
   ]
  },
  {
   "source": [
    "Now, just to make sure that indeed the naive version is much slower than the efficient one:"
   ],
   "cell_type": "markdown",
   "metadata": {}
  },
  {
   "cell_type": "code",
   "execution_count": 5,
   "metadata": {},
   "outputs": [
    {
     "output_type": "stream",
     "name": "stdout",
     "text": [
      "Execution time (in seconds) of naive maximum segment sum on a ~300 items list: 2.73 seconds.\nExecution time (in seconds) of efficient maximum segment sum on the same list: 0.001 seconds.\n"
     ]
    }
   ],
   "source": [
    "import time\n",
    "\n",
    "extended_toy_example_list = toy_example_list + 300*[0,]  # extended_toy_example_list = [-1, 2, -3, 5, -2, 1, 3, -2, -2, -3, 6, 0, 0, 0, ...]\n",
    "\n",
    "start = time.time()\n",
    "naive_version_result_on_extended_list = naive_maximum_segment_sum(extended_toy_example_list)\n",
    "end = time.time()\n",
    "\n",
    "print(f\"Execution time (in seconds) of naive maximum segment sum on a ~300 items list: {round(end - start, 2)} seconds.\")\n",
    "\n",
    "start = time.time()\n",
    "efficient_version_result_on_extended_list = efficient_maximum_segment_sum(extended_toy_example_list)\n",
    "end = time.time()\n",
    "\n",
    "print(f\"Execution time (in seconds) of efficient maximum segment sum on the same list: {round(end - start, 4)} seconds.\")\n",
    "\n",
    "assert naive_version_result_on_extended_list == efficient_version_result_on_extended_list == 7\n",
    "\n"
   ]
  },
  {
   "cell_type": "code",
   "execution_count": 6,
   "metadata": {},
   "outputs": [],
   "source": [
    "def add(x: int, y: int) -> int:\n",
    "    return x+y\n",
    "\n",
    "\n",
    "assert fold_from_left(add, 0)([1, 2, 3, 4])  == add(add(add(add(0, 1), 2), 3), 4)\n",
    "\n",
    "assert fold_from_right(add, 0)([1, 2, 3, 4]) == add(1, add(2, add(3, add(4, 0))))\n",
    "\n",
    "assert (\n",
    "    sum([1, 2, 3, 4]) == 10 \n",
    "                      == fold_from_left(add, 0)([1, 2, 3, 4])\n",
    "                      == fold_from_right(add, 0)([1, 2, 3, 4])\n",
    ")"
   ]
  },
  {
   "source": [
    "Well, you just unveiled some interesting relation between summing a list of integers and left/right-folding the addition over it: they actually are one and the same thing!\n",
    "\n",
    "```py\n",
    "fold_from_left(add, 0) = fold_from_right(add, 0) = sum\n",
    "```"
   ],
   "cell_type": "markdown",
   "metadata": {}
  },
  {
   "cell_type": "code",
   "execution_count": 7,
   "metadata": {},
   "outputs": [],
   "source": [
    "from math import prod\n",
    "\n",
    "\n",
    "def multiply(x: int, y: int) -> int:\n",
    "    return x*y\n",
    " \n",
    "\n",
    "assert fold_from_left(multiply, 1)([1, 2, 3, 4])  == multiply(multiply(multiply(multiply(1, 1), 2), 3), 4)\n",
    "\n",
    "assert fold_from_right(multiply, 1)([1, 2, 3, 4]) == multiply(1, multiply(2, multiply(3, multiply(4, 1))))\n",
    "\n",
    "assert (\n",
    "    prod([1, 2, 3, 4]) == 24 \n",
    "                       == fold_from_left(multiply, 1)([1, 2, 3, 4])\n",
    "                       == fold_from_right(multiply, 1)([1, 2, 3, 4])\n",
    ")"
   ]
  },
  {
   "source": [
    "And one more sweetness. Taking the product of an integer list is equivalent to left-&-right-folding the binary multiplication over it:\n",
    "\n",
    "```py\n",
    "fold_from_left(multiply, 1) = fold_from_right(multiply, 1) = prod\n",
    "```"
   ],
   "cell_type": "markdown",
   "metadata": {}
  },
  {
   "source": [
    "Quiz time: What happens if we inadvertently slip 0 into our previous multiplication folds, i.e. what are `fold_from_left(multiply, 0)` and `fold_from_right(multiply, 0)`?"
   ],
   "cell_type": "markdown",
   "metadata": {}
  },
  {
   "source": [
    "Recall the `all` and `any` Python functions for respectively assessing that *all* boolean list elements are `True` and that *at least one* is? Well, they can also be written as folds! (here we'll content ourselves with the left version though -- the right-fold being once again equivalent to its left counterpart, this time due to `logical_and` and `logical_or` being \"commutative\", i.e. order-agnostic):"
   ],
   "cell_type": "markdown",
   "metadata": {}
  },
  {
   "cell_type": "code",
   "execution_count": 8,
   "metadata": {},
   "outputs": [],
   "source": [
    "def logical_and(x: bool, y: bool) -> bool:\n",
    "    return x and y\n",
    "\n",
    "\n",
    "assert fold_from_left(logical_and, True)([True,  True,  True])  == all([True,  True,  True])  == True\n",
    "assert fold_from_left(logical_and, True)([True,  False, True])  == all([True,  False, True])  == False\n",
    "assert fold_from_left(logical_and, True)([False, True,  False]) == all([False, True,  False]) == False\n",
    "assert fold_from_left(logical_and, True)([False, False, False]) == all([False, False, False]) == False"
   ]
  },
  {
   "cell_type": "code",
   "execution_count": 9,
   "metadata": {},
   "outputs": [],
   "source": [
    "def logical_or(x: bool, y: bool) -> bool:\n",
    "    return x or y\n",
    "\n",
    "\n",
    "assert fold_from_left(logical_or, False)([True,  True,  True])  == any([True,  True,  True])  == True\n",
    "assert fold_from_left(logical_or, False)([True,  False, True])  == any([True,  False, True])  == True\n",
    "assert fold_from_left(logical_or, False)([False, True,  False]) == any([False, True,  False]) == True\n",
    "assert fold_from_left(logical_or, False)([False, False, False]) == any([False, False, False]) == False"
   ]
  },
  {
   "source": [
    "Or in short:\n",
    "\n",
    "```py\n",
    "fold_from_left(logical_and, True) = fold_from_right(logical_and, True) = all\n",
    "\n",
    "fold_from_left(logical_or, False) = fold_from_right(logical_or, False) = any\n",
    "```"
   ],
   "cell_type": "markdown",
   "metadata": {}
  },
  {
   "source": [
    "Quiz time again: What are `fold_from_left(logical_and, False)` and `fold_from_left(logical_or, True)`?"
   ],
   "cell_type": "markdown",
   "metadata": {}
  },
  {
   "source": [
    "And that's it for this little playground but feel free to import other functions from the `maximum_segment_sum` module to experiment on your own!"
   ],
   "cell_type": "markdown",
   "metadata": {}
  }
 ]
}